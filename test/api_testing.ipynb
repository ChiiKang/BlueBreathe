{
 "cells": [
  {
   "cell_type": "code",
   "execution_count": null,
   "metadata": {},
   "outputs": [
    {
     "name": "stdout",
     "output_type": "stream",
     "text": [
      "已保存为 city.xlsx\n"
     ]
    },
    {
     "name": "stderr",
     "output_type": "stream",
     "text": [
      "d:\\MonashAI\\Y2S2\\FIT5120\\Onboarding\\BlueBreathe\\venv\\Lib\\site-packages\\ozon3\\ozon3.py:572: UserWarning: city_id was not supplied. Searching for \"'\" yields city ID 11128 with station name \"[\"Heyang County People's Congress, Weinan\"]\", with country code \"CN\". Ozon3 will return air quality data from that station. If you know this is not the correct city you intended, you can use get_city_station_options method first to identify the correct city ID.\n",
      "  warnings.warn(\n"
     ]
    },
    {
     "name": "stdout",
     "output_type": "stream",
     "text": [
      "历史数据已保存为 ['Cheras,Kuala Lumpur, Wilayah Persekutuan, Malaysia'].xlsx\n"
     ]
    },
    {
     "name": "stderr",
     "output_type": "stream",
     "text": [
      "d:\\MonashAI\\Y2S2\\FIT5120\\Onboarding\\BlueBreathe\\venv\\Lib\\site-packages\\ozon3\\ozon3.py:572: UserWarning: city_id was not supplied. Searching for \"'\" yields city ID 11128 with station name \"[\"Heyang County People's Congress, Weinan\"]\", with country code \"CN\". Ozon3 will return air quality data from that station. If you know this is not the correct city you intended, you can use get_city_station_options method first to identify the correct city ID.\n",
      "  warnings.warn(\n"
     ]
    },
    {
     "name": "stdout",
     "output_type": "stream",
     "text": [
      "历史数据已保存为 ['Pelabuhan Kelang, Selangor, Malaysia'].xlsx\n"
     ]
    },
    {
     "name": "stderr",
     "output_type": "stream",
     "text": [
      "d:\\MonashAI\\Y2S2\\FIT5120\\Onboarding\\BlueBreathe\\venv\\Lib\\site-packages\\ozon3\\ozon3.py:572: UserWarning: city_id was not supplied. Searching for \"'\" yields city ID 11128 with station name \"[\"Heyang County People's Congress, Weinan\"]\", with country code \"CN\". Ozon3 will return air quality data from that station. If you know this is not the correct city you intended, you can use get_city_station_options method first to identify the correct city ID.\n",
      "  warnings.warn(\n"
     ]
    },
    {
     "name": "stdout",
     "output_type": "stream",
     "text": [
      "历史数据已保存为 ['Banting, Selangor, Malaysia'].xlsx\n"
     ]
    },
    {
     "name": "stderr",
     "output_type": "stream",
     "text": [
      "d:\\MonashAI\\Y2S2\\FIT5120\\Onboarding\\BlueBreathe\\venv\\Lib\\site-packages\\ozon3\\ozon3.py:572: UserWarning: city_id was not supplied. Searching for \"'\" yields city ID 11128 with station name \"[\"Heyang County People's Congress, Weinan\"]\", with country code \"CN\". Ozon3 will return air quality data from that station. If you know this is not the correct city you intended, you can use get_city_station_options method first to identify the correct city ID.\n",
      "  warnings.warn(\n"
     ]
    },
    {
     "name": "stdout",
     "output_type": "stream",
     "text": [
      "历史数据已保存为 ['Petaling Jaya, Selangor, Malaysia'].xlsx\n"
     ]
    },
    {
     "name": "stderr",
     "output_type": "stream",
     "text": [
      "d:\\MonashAI\\Y2S2\\FIT5120\\Onboarding\\BlueBreathe\\venv\\Lib\\site-packages\\ozon3\\ozon3.py:572: UserWarning: city_id was not supplied. Searching for \"'\" yields city ID 11128 with station name \"[\"Heyang County People's Congress, Weinan\"]\", with country code \"CN\". Ozon3 will return air quality data from that station. If you know this is not the correct city you intended, you can use get_city_station_options method first to identify the correct city ID.\n",
      "  warnings.warn(\n"
     ]
    },
    {
     "name": "stdout",
     "output_type": "stream",
     "text": [
      "历史数据已保存为 ['Shah Alam, Selangor, Malaysia'].xlsx\n"
     ]
    },
    {
     "name": "stderr",
     "output_type": "stream",
     "text": [
      "d:\\MonashAI\\Y2S2\\FIT5120\\Onboarding\\BlueBreathe\\venv\\Lib\\site-packages\\ozon3\\ozon3.py:572: UserWarning: city_id was not supplied. Searching for \"'\" yields city ID 11128 with station name \"[\"Heyang County People's Congress, Weinan\"]\", with country code \"CN\". Ozon3 will return air quality data from that station. If you know this is not the correct city you intended, you can use get_city_station_options method first to identify the correct city ID.\n",
      "  warnings.warn(\n"
     ]
    },
    {
     "name": "stdout",
     "output_type": "stream",
     "text": [
      "历史数据已保存为 ['Batu Muda,Kuala Lumpur, Wilayah Persekutuan, Malaysia'].xlsx\n"
     ]
    },
    {
     "name": "stderr",
     "output_type": "stream",
     "text": [
      "d:\\MonashAI\\Y2S2\\FIT5120\\Onboarding\\BlueBreathe\\venv\\Lib\\site-packages\\ozon3\\ozon3.py:572: UserWarning: city_id was not supplied. Searching for \"'\" yields city ID 11128 with station name \"[\"Heyang County People's Congress, Weinan\"]\", with country code \"CN\". Ozon3 will return air quality data from that station. If you know this is not the correct city you intended, you can use get_city_station_options method first to identify the correct city ID.\n",
      "  warnings.warn(\n"
     ]
    },
    {
     "name": "stdout",
     "output_type": "stream",
     "text": [
      "历史数据已保存为 ['Kg. Air Putih, Taiping, Perak, Malaysia'].xlsx\n"
     ]
    },
    {
     "name": "stderr",
     "output_type": "stream",
     "text": [
      "d:\\MonashAI\\Y2S2\\FIT5120\\Onboarding\\BlueBreathe\\venv\\Lib\\site-packages\\ozon3\\ozon3.py:572: UserWarning: city_id was not supplied. Searching for \"'\" yields city ID 11128 with station name \"[\"Heyang County People's Congress, Weinan\"]\", with country code \"CN\". Ozon3 will return air quality data from that station. If you know this is not the correct city you intended, you can use get_city_station_options method first to identify the correct city ID.\n",
      "  warnings.warn(\n"
     ]
    },
    {
     "ename": "KeyboardInterrupt",
     "evalue": "",
     "output_type": "error",
     "traceback": [
      "\u001b[31m---------------------------------------------------------------------------\u001b[39m",
      "\u001b[31mKeyboardInterrupt\u001b[39m                         Traceback (most recent call last)",
      "\u001b[36mCell\u001b[39m\u001b[36m \u001b[39m\u001b[32mIn[10]\u001b[39m\u001b[32m, line 20\u001b[39m\n\u001b[32m     18\u001b[39m df=pd.read_excel(output_file)\n\u001b[32m     19\u001b[39m \u001b[38;5;28;01mfor\u001b[39;00m station_name \u001b[38;5;129;01min\u001b[39;00m df[\u001b[33m'\u001b[39m\u001b[33mstation_name\u001b[39m\u001b[33m'\u001b[39m]:\n\u001b[32m---> \u001b[39m\u001b[32m20\u001b[39m     data3 = \u001b[43mo3\u001b[49m\u001b[43m.\u001b[49m\u001b[43mget_historical_data\u001b[49m\u001b[43m(\u001b[49m\u001b[43mcity\u001b[49m\u001b[43m=\u001b[49m\u001b[43mstation_name\u001b[49m\u001b[43m[\u001b[49m\u001b[32;43m1\u001b[39;49m\u001b[43m]\u001b[49m\u001b[43m)\u001b[49m     \u001b[38;5;66;03m# data from 2014 onwards!\u001b[39;00m\n\u001b[32m     21\u001b[39m     output_file = \u001b[33mf\u001b[39m\u001b[33m\"\u001b[39m\u001b[38;5;132;01m{\u001b[39;00mstation_name\u001b[38;5;132;01m}\u001b[39;00m\u001b[33m.xlsx\u001b[39m\u001b[33m\"\u001b[39m\n\u001b[32m     22\u001b[39m     data3.to_excel(output_file, index=\u001b[38;5;28;01mFalse\u001b[39;00m)\n",
      "\u001b[36mFile \u001b[39m\u001b[32md:\\MonashAI\\Y2S2\\FIT5120\\Onboarding\\BlueBreathe\\venv\\Lib\\site-packages\\ozon3\\ozon3.py:588\u001b[39m, in \u001b[36mOzon3.get_historical_data\u001b[39m\u001b[34m(self, city, city_id)\u001b[39m\n\u001b[32m    582\u001b[39m     \u001b[38;5;28;01mif\u001b[39;00m city \u001b[38;5;129;01mis\u001b[39;00m \u001b[38;5;129;01mnot\u001b[39;00m \u001b[38;5;28;01mNone\u001b[39;00m:\n\u001b[32m    583\u001b[39m         warnings.warn(\n\u001b[32m    584\u001b[39m             \u001b[33m\"\u001b[39m\u001b[33mBoth arguments city and city_id were supplied. \u001b[39m\u001b[33m\"\u001b[39m\n\u001b[32m    585\u001b[39m             \u001b[33m\"\u001b[39m\u001b[33mOnly city_id will be used. city argument will be ignored.\u001b[39m\u001b[33m\"\u001b[39m\n\u001b[32m    586\u001b[39m         )\n\u001b[32m--> \u001b[39m\u001b[32m588\u001b[39m df = \u001b[43mget_data_from_id\u001b[49m\u001b[43m(\u001b[49m\u001b[43mcity_id\u001b[49m\u001b[43m)\u001b[49m\n\u001b[32m    589\u001b[39m \u001b[38;5;28;01mif\u001b[39;00m \u001b[33m\"\u001b[39m\u001b[33mpm25\u001b[39m\u001b[33m\"\u001b[39m \u001b[38;5;129;01min\u001b[39;00m df.columns:\n\u001b[32m    590\u001b[39m     \u001b[38;5;66;03m# This ensures that pm25 data is labelled correctly.\u001b[39;00m\n\u001b[32m    591\u001b[39m     df.rename(columns={\u001b[33m\"\u001b[39m\u001b[33mpm25\u001b[39m\u001b[33m\"\u001b[39m: \u001b[33m\"\u001b[39m\u001b[33mpm2.5\u001b[39m\u001b[33m\"\u001b[39m}, inplace=\u001b[38;5;28;01mTrue\u001b[39;00m)\n",
      "\u001b[36mFile \u001b[39m\u001b[32md:\\MonashAI\\Y2S2\\FIT5120\\Onboarding\\BlueBreathe\\venv\\Lib\\site-packages\\ozon3\\historical\\_reverse_engineered.py:82\u001b[39m, in \u001b[36mget_data_from_id\u001b[39m\u001b[34m(city_id)\u001b[39m\n\u001b[32m     80\u001b[39m \u001b[38;5;28;01mdef\u001b[39;00m\u001b[38;5;250m \u001b[39m\u001b[34mget_data_from_id\u001b[39m(city_id: \u001b[38;5;28mint\u001b[39m) -> pandas.DataFrame:\n\u001b[32m     81\u001b[39m     backend_data = get_results_from_backend(city_id)\n\u001b[32m---> \u001b[39m\u001b[32m82\u001b[39m     result = pandas.concat(\u001b[43m[\u001b[49m\u001b[43mparse_incoming_result\u001b[49m\u001b[43m(\u001b[49m\u001b[43mdata\u001b[49m\u001b[43m)\u001b[49m\u001b[43m \u001b[49m\u001b[38;5;28;43;01mfor\u001b[39;49;00m\u001b[43m \u001b[49m\u001b[43mdata\u001b[49m\u001b[43m \u001b[49m\u001b[38;5;129;43;01min\u001b[39;49;00m\u001b[43m \u001b[49m\u001b[43mbackend_data\u001b[49m\u001b[43m]\u001b[49m)\n\u001b[32m     84\u001b[39m     \u001b[38;5;66;03m# Arrange to make most recent appear on top of DataFrame\u001b[39;00m\n\u001b[32m     85\u001b[39m     result = result.sort_index(ascending=\u001b[38;5;28;01mFalse\u001b[39;00m, na_position=\u001b[33m\"\u001b[39m\u001b[33mlast\u001b[39m\u001b[33m\"\u001b[39m)\n",
      "\u001b[36mFile \u001b[39m\u001b[32md:\\MonashAI\\Y2S2\\FIT5120\\Onboarding\\BlueBreathe\\venv\\Lib\\site-packages\\ozon3\\historical\\_reverse_engineered.py:82\u001b[39m, in \u001b[36m<listcomp>\u001b[39m\u001b[34m(.0)\u001b[39m\n\u001b[32m     80\u001b[39m \u001b[38;5;28;01mdef\u001b[39;00m\u001b[38;5;250m \u001b[39m\u001b[34mget_data_from_id\u001b[39m(city_id: \u001b[38;5;28mint\u001b[39m) -> pandas.DataFrame:\n\u001b[32m     81\u001b[39m     backend_data = get_results_from_backend(city_id)\n\u001b[32m---> \u001b[39m\u001b[32m82\u001b[39m     result = pandas.concat([\u001b[43mparse_incoming_result\u001b[49m\u001b[43m(\u001b[49m\u001b[43mdata\u001b[49m\u001b[43m)\u001b[49m \u001b[38;5;28;01mfor\u001b[39;00m data \u001b[38;5;129;01min\u001b[39;00m backend_data])\n\u001b[32m     84\u001b[39m     \u001b[38;5;66;03m# Arrange to make most recent appear on top of DataFrame\u001b[39;00m\n\u001b[32m     85\u001b[39m     result = result.sort_index(ascending=\u001b[38;5;28;01mFalse\u001b[39;00m, na_position=\u001b[33m\"\u001b[39m\u001b[33mlast\u001b[39m\u001b[33m\"\u001b[39m)\n",
      "\u001b[36mFile \u001b[39m\u001b[32md:\\MonashAI\\Y2S2\\FIT5120\\Onboarding\\BlueBreathe\\venv\\Lib\\site-packages\\ozon3\\historical\\_reverse_engineered.py:56\u001b[39m, in \u001b[36mparse_incoming_result\u001b[39m\u001b[34m(json_object)\u001b[39m\n\u001b[32m     52\u001b[39m \u001b[38;5;28;01mdef\u001b[39;00m\u001b[38;5;250m \u001b[39m\u001b[34mparse_incoming_result\u001b[39m(json_object: \u001b[38;5;28mdict\u001b[39m) -> pandas.DataFrame:\n\u001b[32m     53\u001b[39m     \u001b[38;5;66;03m# Run JS code\u001b[39;00m\n\u001b[32m     54\u001b[39m     \u001b[38;5;66;03m# Function is defined within JS code above\u001b[39;00m\n\u001b[32m     55\u001b[39m     \u001b[38;5;66;03m# Convert result to Python dict afterwards\u001b[39;00m\n\u001b[32m---> \u001b[39m\u001b[32m56\u001b[39m     OUTPUT = \u001b[43m_context\u001b[49m\u001b[43m.\u001b[49m\u001b[43mgatekeep_convert_date_object_to_unix_seconds\u001b[49m\u001b[43m(\u001b[49m\n\u001b[32m     57\u001b[39m \u001b[43m        \u001b[49m\u001b[43mjson_object\u001b[49m\u001b[43m[\u001b[49m\u001b[33;43m\"\u001b[39;49m\u001b[33;43mmsg\u001b[39;49m\u001b[33;43m\"\u001b[39;49m\u001b[43m]\u001b[49m\n\u001b[32m     58\u001b[39m \u001b[43m    \u001b[49m\u001b[43m)\u001b[49m.to_dict()\n\u001b[32m     60\u001b[39m     result_dict = {}\n\u001b[32m     61\u001b[39m     \u001b[38;5;28;01mfor\u001b[39;00m spec \u001b[38;5;129;01min\u001b[39;00m OUTPUT[\u001b[33m\"\u001b[39m\u001b[33mspecies\u001b[39m\u001b[33m\"\u001b[39m]:\n",
      "\u001b[36mFile \u001b[39m\u001b[32md:\\MonashAI\\Y2S2\\FIT5120\\Onboarding\\BlueBreathe\\venv\\Lib\\site-packages\\js2py\\base.py:1203\u001b[39m, in \u001b[36mJsObjectWrapper.__call__\u001b[39m\u001b[34m(self, *args)\u001b[39m\n\u001b[32m   1201\u001b[39m \u001b[38;5;28;01mif\u001b[39;00m \u001b[33m'\u001b[39m\u001b[33m_prop_of\u001b[39m\u001b[33m'\u001b[39m \u001b[38;5;129;01min\u001b[39;00m \u001b[38;5;28mself\u001b[39m.\u001b[34m__dict__\u001b[39m:\n\u001b[32m   1202\u001b[39m     parent, meth = \u001b[38;5;28mself\u001b[39m.\u001b[34m__dict__\u001b[39m[\u001b[33m'\u001b[39m\u001b[33m_prop_of\u001b[39m\u001b[33m'\u001b[39m]\n\u001b[32m-> \u001b[39m\u001b[32m1203\u001b[39m     \u001b[38;5;28;01mreturn\u001b[39;00m to_python(\u001b[43mparent\u001b[49m\u001b[43m.\u001b[49m\u001b[43m_obj\u001b[49m\u001b[43m.\u001b[49m\u001b[43mcallprop\u001b[49m\u001b[43m(\u001b[49m\u001b[43mmeth\u001b[49m\u001b[43m,\u001b[49m\u001b[43m \u001b[49m\u001b[43m*\u001b[49m\u001b[43margs\u001b[49m\u001b[43m)\u001b[49m)\n\u001b[32m   1204\u001b[39m \u001b[38;5;28;01mreturn\u001b[39;00m to_python(\u001b[38;5;28mself\u001b[39m._obj(*args))\n",
      "\u001b[36mFile \u001b[39m\u001b[32md:\\MonashAI\\Y2S2\\FIT5120\\Onboarding\\BlueBreathe\\venv\\Lib\\site-packages\\js2py\\base.py:996\u001b[39m, in \u001b[36mPyJs.callprop\u001b[39m\u001b[34m(self, prop, *args)\u001b[39m\n\u001b[32m    992\u001b[39m \u001b[38;5;28;01mif\u001b[39;00m \u001b[38;5;129;01mnot\u001b[39;00m cand.is_callable():\n\u001b[32m    993\u001b[39m     \u001b[38;5;28;01mraise\u001b[39;00m MakeError(\u001b[33m'\u001b[39m\u001b[33mTypeError\u001b[39m\u001b[33m'\u001b[39m,\n\u001b[32m    994\u001b[39m                     \u001b[33m'\u001b[39m\u001b[38;5;132;01m%s\u001b[39;00m\u001b[33m is not a function (tried calling property \u001b[39m\u001b[38;5;132;01m%s\u001b[39;00m\u001b[33m of \u001b[39m\u001b[38;5;132;01m%s\u001b[39;00m\u001b[33m)\u001b[39m\u001b[33m'\u001b[39m % (\n\u001b[32m    995\u001b[39m                     cand.typeof(), \u001b[38;5;28mrepr\u001b[39m(prop), \u001b[38;5;28mrepr\u001b[39m(\u001b[38;5;28mself\u001b[39m.Class)))\n\u001b[32m--> \u001b[39m\u001b[32m996\u001b[39m \u001b[38;5;28;01mreturn\u001b[39;00m \u001b[43mcand\u001b[49m\u001b[43m.\u001b[49m\u001b[43mcall\u001b[49m\u001b[43m(\u001b[49m\u001b[38;5;28;43mself\u001b[39;49m\u001b[43m,\u001b[49m\u001b[43m \u001b[49m\u001b[43margs\u001b[49m\u001b[43m)\u001b[49m\n",
      "\u001b[36mFile \u001b[39m\u001b[32md:\\MonashAI\\Y2S2\\FIT5120\\Onboarding\\BlueBreathe\\venv\\Lib\\site-packages\\js2py\\base.py:1464\u001b[39m, in \u001b[36mPyJsFunction.call\u001b[39m\u001b[34m(self, this, args)\u001b[39m\n\u001b[32m   1462\u001b[39m args += this, arguments  \u001b[38;5;66;03m#append extra params to the arg list\u001b[39;00m\n\u001b[32m   1463\u001b[39m \u001b[38;5;28;01mtry\u001b[39;00m:\n\u001b[32m-> \u001b[39m\u001b[32m1464\u001b[39m     \u001b[38;5;28;01mreturn\u001b[39;00m Js(\u001b[38;5;28;43mself\u001b[39;49m\u001b[43m.\u001b[49m\u001b[43mcode\u001b[49m\u001b[43m(\u001b[49m\u001b[43m*\u001b[49m\u001b[43margs\u001b[49m\u001b[43m)\u001b[49m)\n\u001b[32m   1465\u001b[39m \u001b[38;5;28;01mexcept\u001b[39;00m \u001b[38;5;167;01mNotImplementedError\u001b[39;00m:\n\u001b[32m   1466\u001b[39m     \u001b[38;5;28;01mraise\u001b[39;00m\n",
      "\u001b[36mFile \u001b[39m\u001b[32m<EvalJS snippet>:214\u001b[39m, in \u001b[36mPyJsHoisted_gatekeep_convert_date_object_to_unix_seconds_\u001b[39m\u001b[34m(t, this, arguments, var)\u001b[39m\n",
      "\u001b[36mFile \u001b[39m\u001b[32md:\\MonashAI\\Y2S2\\FIT5120\\Onboarding\\BlueBreathe\\venv\\Lib\\site-packages\\js2py\\base.py:949\u001b[39m, in \u001b[36mPyJs.__call__\u001b[39m\u001b[34m(self, *args)\u001b[39m\n\u001b[32m    946\u001b[39m \u001b[38;5;28;01mif\u001b[39;00m \u001b[38;5;129;01mnot\u001b[39;00m \u001b[38;5;28mself\u001b[39m.is_callable():\n\u001b[32m    947\u001b[39m     \u001b[38;5;28;01mraise\u001b[39;00m MakeError(\u001b[33m'\u001b[39m\u001b[33mTypeError\u001b[39m\u001b[33m'\u001b[39m,\n\u001b[32m    948\u001b[39m                     \u001b[33m'\u001b[39m\u001b[38;5;132;01m%s\u001b[39;00m\u001b[33m is not a function\u001b[39m\u001b[33m'\u001b[39m % \u001b[38;5;28mself\u001b[39m.typeof())\n\u001b[32m--> \u001b[39m\u001b[32m949\u001b[39m \u001b[38;5;28;01mreturn\u001b[39;00m \u001b[38;5;28;43mself\u001b[39;49m\u001b[43m.\u001b[49m\u001b[43mcall\u001b[49m\u001b[43m(\u001b[49m\u001b[38;5;28;43mself\u001b[39;49m\u001b[43m.\u001b[49m\u001b[43mGlobalObject\u001b[49m\u001b[43m,\u001b[49m\u001b[43m \u001b[49m\u001b[43margs\u001b[49m\u001b[43m)\u001b[49m\n",
      "\u001b[36mFile \u001b[39m\u001b[32md:\\MonashAI\\Y2S2\\FIT5120\\Onboarding\\BlueBreathe\\venv\\Lib\\site-packages\\js2py\\base.py:1464\u001b[39m, in \u001b[36mPyJsFunction.call\u001b[39m\u001b[34m(self, this, args)\u001b[39m\n\u001b[32m   1462\u001b[39m args += this, arguments  \u001b[38;5;66;03m#append extra params to the arg list\u001b[39;00m\n\u001b[32m   1463\u001b[39m \u001b[38;5;28;01mtry\u001b[39;00m:\n\u001b[32m-> \u001b[39m\u001b[32m1464\u001b[39m     \u001b[38;5;28;01mreturn\u001b[39;00m Js(\u001b[38;5;28;43mself\u001b[39;49m\u001b[43m.\u001b[49m\u001b[43mcode\u001b[49m\u001b[43m(\u001b[49m\u001b[43m*\u001b[49m\u001b[43margs\u001b[49m\u001b[43m)\u001b[49m)\n\u001b[32m   1465\u001b[39m \u001b[38;5;28;01mexcept\u001b[39;00m \u001b[38;5;167;01mNotImplementedError\u001b[39;00m:\n\u001b[32m   1466\u001b[39m     \u001b[38;5;28;01mraise\u001b[39;00m\n",
      "\u001b[36mFile \u001b[39m\u001b[32m<EvalJS snippet>:179\u001b[39m, in \u001b[36mPyJsHoisted_s_\u001b[39m\u001b[34m(t, this, arguments, var)\u001b[39m\n",
      "\u001b[36mFile \u001b[39m\u001b[32md:\\MonashAI\\Y2S2\\FIT5120\\Onboarding\\BlueBreathe\\venv\\Lib\\site-packages\\js2py\\base.py:949\u001b[39m, in \u001b[36mPyJs.__call__\u001b[39m\u001b[34m(self, *args)\u001b[39m\n\u001b[32m    946\u001b[39m \u001b[38;5;28;01mif\u001b[39;00m \u001b[38;5;129;01mnot\u001b[39;00m \u001b[38;5;28mself\u001b[39m.is_callable():\n\u001b[32m    947\u001b[39m     \u001b[38;5;28;01mraise\u001b[39;00m MakeError(\u001b[33m'\u001b[39m\u001b[33mTypeError\u001b[39m\u001b[33m'\u001b[39m,\n\u001b[32m    948\u001b[39m                     \u001b[33m'\u001b[39m\u001b[38;5;132;01m%s\u001b[39;00m\u001b[33m is not a function\u001b[39m\u001b[33m'\u001b[39m % \u001b[38;5;28mself\u001b[39m.typeof())\n\u001b[32m--> \u001b[39m\u001b[32m949\u001b[39m \u001b[38;5;28;01mreturn\u001b[39;00m \u001b[38;5;28;43mself\u001b[39;49m\u001b[43m.\u001b[49m\u001b[43mcall\u001b[49m\u001b[43m(\u001b[49m\u001b[38;5;28;43mself\u001b[39;49m\u001b[43m.\u001b[49m\u001b[43mGlobalObject\u001b[49m\u001b[43m,\u001b[49m\u001b[43m \u001b[49m\u001b[43margs\u001b[49m\u001b[43m)\u001b[49m\n",
      "\u001b[36mFile \u001b[39m\u001b[32md:\\MonashAI\\Y2S2\\FIT5120\\Onboarding\\BlueBreathe\\venv\\Lib\\site-packages\\js2py\\base.py:1464\u001b[39m, in \u001b[36mPyJsFunction.call\u001b[39m\u001b[34m(self, this, args)\u001b[39m\n\u001b[32m   1462\u001b[39m args += this, arguments  \u001b[38;5;66;03m#append extra params to the arg list\u001b[39;00m\n\u001b[32m   1463\u001b[39m \u001b[38;5;28;01mtry\u001b[39;00m:\n\u001b[32m-> \u001b[39m\u001b[32m1464\u001b[39m     \u001b[38;5;28;01mreturn\u001b[39;00m Js(\u001b[38;5;28;43mself\u001b[39;49m\u001b[43m.\u001b[49m\u001b[43mcode\u001b[49m\u001b[43m(\u001b[49m\u001b[43m*\u001b[49m\u001b[43margs\u001b[49m\u001b[43m)\u001b[49m)\n\u001b[32m   1465\u001b[39m \u001b[38;5;28;01mexcept\u001b[39;00m \u001b[38;5;167;01mNotImplementedError\u001b[39;00m:\n\u001b[32m   1466\u001b[39m     \u001b[38;5;28;01mraise\u001b[39;00m\n",
      "\u001b[36mFile \u001b[39m\u001b[32m<EvalJS snippet>:116\u001b[39m, in \u001b[36mPyJs_anonymous_1_\u001b[39m\u001b[34m(this, arguments, var)\u001b[39m\n",
      "\u001b[36mFile \u001b[39m\u001b[32md:\\MonashAI\\Y2S2\\FIT5120\\Onboarding\\BlueBreathe\\venv\\Lib\\site-packages\\js2py\\base.py:949\u001b[39m, in \u001b[36mPyJs.__call__\u001b[39m\u001b[34m(self, *args)\u001b[39m\n\u001b[32m    946\u001b[39m \u001b[38;5;28;01mif\u001b[39;00m \u001b[38;5;129;01mnot\u001b[39;00m \u001b[38;5;28mself\u001b[39m.is_callable():\n\u001b[32m    947\u001b[39m     \u001b[38;5;28;01mraise\u001b[39;00m MakeError(\u001b[33m'\u001b[39m\u001b[33mTypeError\u001b[39m\u001b[33m'\u001b[39m,\n\u001b[32m    948\u001b[39m                     \u001b[33m'\u001b[39m\u001b[38;5;132;01m%s\u001b[39;00m\u001b[33m is not a function\u001b[39m\u001b[33m'\u001b[39m % \u001b[38;5;28mself\u001b[39m.typeof())\n\u001b[32m--> \u001b[39m\u001b[32m949\u001b[39m \u001b[38;5;28;01mreturn\u001b[39;00m \u001b[38;5;28;43mself\u001b[39;49m\u001b[43m.\u001b[49m\u001b[43mcall\u001b[49m\u001b[43m(\u001b[49m\u001b[38;5;28;43mself\u001b[39;49m\u001b[43m.\u001b[49m\u001b[43mGlobalObject\u001b[49m\u001b[43m,\u001b[49m\u001b[43m \u001b[49m\u001b[43margs\u001b[49m\u001b[43m)\u001b[49m\n",
      "\u001b[36mFile \u001b[39m\u001b[32md:\\MonashAI\\Y2S2\\FIT5120\\Onboarding\\BlueBreathe\\venv\\Lib\\site-packages\\js2py\\base.py:1464\u001b[39m, in \u001b[36mPyJsFunction.call\u001b[39m\u001b[34m(self, this, args)\u001b[39m\n\u001b[32m   1462\u001b[39m args += this, arguments  \u001b[38;5;66;03m#append extra params to the arg list\u001b[39;00m\n\u001b[32m   1463\u001b[39m \u001b[38;5;28;01mtry\u001b[39;00m:\n\u001b[32m-> \u001b[39m\u001b[32m1464\u001b[39m     \u001b[38;5;28;01mreturn\u001b[39;00m Js(\u001b[38;5;28;43mself\u001b[39;49m\u001b[43m.\u001b[49m\u001b[43mcode\u001b[49m\u001b[43m(\u001b[49m\u001b[43m*\u001b[49m\u001b[43margs\u001b[49m\u001b[43m)\u001b[49m)\n\u001b[32m   1465\u001b[39m \u001b[38;5;28;01mexcept\u001b[39;00m \u001b[38;5;167;01mNotImplementedError\u001b[39;00m:\n\u001b[32m   1466\u001b[39m     \u001b[38;5;28;01mraise\u001b[39;00m\n",
      "\u001b[36mFile \u001b[39m\u001b[32m<EvalJS snippet>:79\u001b[39m, in \u001b[36mPyJsHoisted_a_\u001b[39m\u001b[34m(backendData, n, this, arguments, var)\u001b[39m\n",
      "\u001b[36mFile \u001b[39m\u001b[32md:\\MonashAI\\Y2S2\\FIT5120\\Onboarding\\BlueBreathe\\venv\\Lib\\site-packages\\js2py\\base.py:949\u001b[39m, in \u001b[36mPyJs.__call__\u001b[39m\u001b[34m(self, *args)\u001b[39m\n\u001b[32m    946\u001b[39m \u001b[38;5;28;01mif\u001b[39;00m \u001b[38;5;129;01mnot\u001b[39;00m \u001b[38;5;28mself\u001b[39m.is_callable():\n\u001b[32m    947\u001b[39m     \u001b[38;5;28;01mraise\u001b[39;00m MakeError(\u001b[33m'\u001b[39m\u001b[33mTypeError\u001b[39m\u001b[33m'\u001b[39m,\n\u001b[32m    948\u001b[39m                     \u001b[33m'\u001b[39m\u001b[38;5;132;01m%s\u001b[39;00m\u001b[33m is not a function\u001b[39m\u001b[33m'\u001b[39m % \u001b[38;5;28mself\u001b[39m.typeof())\n\u001b[32m--> \u001b[39m\u001b[32m949\u001b[39m \u001b[38;5;28;01mreturn\u001b[39;00m \u001b[38;5;28;43mself\u001b[39;49m\u001b[43m.\u001b[49m\u001b[43mcall\u001b[49m\u001b[43m(\u001b[49m\u001b[38;5;28;43mself\u001b[39;49m\u001b[43m.\u001b[49m\u001b[43mGlobalObject\u001b[49m\u001b[43m,\u001b[49m\u001b[43m \u001b[49m\u001b[43margs\u001b[49m\u001b[43m)\u001b[49m\n",
      "\u001b[36mFile \u001b[39m\u001b[32md:\\MonashAI\\Y2S2\\FIT5120\\Onboarding\\BlueBreathe\\venv\\Lib\\site-packages\\js2py\\base.py:1464\u001b[39m, in \u001b[36mPyJsFunction.call\u001b[39m\u001b[34m(self, this, args)\u001b[39m\n\u001b[32m   1462\u001b[39m args += this, arguments  \u001b[38;5;66;03m#append extra params to the arg list\u001b[39;00m\n\u001b[32m   1463\u001b[39m \u001b[38;5;28;01mtry\u001b[39;00m:\n\u001b[32m-> \u001b[39m\u001b[32m1464\u001b[39m     \u001b[38;5;28;01mreturn\u001b[39;00m Js(\u001b[38;5;28;43mself\u001b[39;49m\u001b[43m.\u001b[49m\u001b[43mcode\u001b[49m\u001b[43m(\u001b[49m\u001b[43m*\u001b[49m\u001b[43margs\u001b[49m\u001b[43m)\u001b[49m)\n\u001b[32m   1465\u001b[39m \u001b[38;5;28;01mexcept\u001b[39;00m \u001b[38;5;167;01mNotImplementedError\u001b[39;00m:\n\u001b[32m   1466\u001b[39m     \u001b[38;5;28;01mraise\u001b[39;00m\n",
      "\u001b[36mFile \u001b[39m\u001b[32m<EvalJS snippet>:20\u001b[39m, in \u001b[36mPyJsHoisted_s_\u001b[39m\u001b[34m(t, r, this, arguments, var)\u001b[39m\n",
      "\u001b[36mFile \u001b[39m\u001b[32md:\\MonashAI\\Y2S2\\FIT5120\\Onboarding\\BlueBreathe\\venv\\Lib\\site-packages\\js2py\\base.py:949\u001b[39m, in \u001b[36mPyJs.__call__\u001b[39m\u001b[34m(self, *args)\u001b[39m\n\u001b[32m    946\u001b[39m \u001b[38;5;28;01mif\u001b[39;00m \u001b[38;5;129;01mnot\u001b[39;00m \u001b[38;5;28mself\u001b[39m.is_callable():\n\u001b[32m    947\u001b[39m     \u001b[38;5;28;01mraise\u001b[39;00m MakeError(\u001b[33m'\u001b[39m\u001b[33mTypeError\u001b[39m\u001b[33m'\u001b[39m,\n\u001b[32m    948\u001b[39m                     \u001b[33m'\u001b[39m\u001b[38;5;132;01m%s\u001b[39;00m\u001b[33m is not a function\u001b[39m\u001b[33m'\u001b[39m % \u001b[38;5;28mself\u001b[39m.typeof())\n\u001b[32m--> \u001b[39m\u001b[32m949\u001b[39m \u001b[38;5;28;01mreturn\u001b[39;00m \u001b[38;5;28;43mself\u001b[39;49m\u001b[43m.\u001b[49m\u001b[43mcall\u001b[49m\u001b[43m(\u001b[49m\u001b[38;5;28;43mself\u001b[39;49m\u001b[43m.\u001b[49m\u001b[43mGlobalObject\u001b[49m\u001b[43m,\u001b[49m\u001b[43m \u001b[49m\u001b[43margs\u001b[49m\u001b[43m)\u001b[49m\n",
      "\u001b[36mFile \u001b[39m\u001b[32md:\\MonashAI\\Y2S2\\FIT5120\\Onboarding\\BlueBreathe\\venv\\Lib\\site-packages\\js2py\\base.py:1464\u001b[39m, in \u001b[36mPyJsFunction.call\u001b[39m\u001b[34m(self, this, args)\u001b[39m\n\u001b[32m   1462\u001b[39m args += this, arguments  \u001b[38;5;66;03m#append extra params to the arg list\u001b[39;00m\n\u001b[32m   1463\u001b[39m \u001b[38;5;28;01mtry\u001b[39;00m:\n\u001b[32m-> \u001b[39m\u001b[32m1464\u001b[39m     \u001b[38;5;28;01mreturn\u001b[39;00m Js(\u001b[38;5;28;43mself\u001b[39;49m\u001b[43m.\u001b[49m\u001b[43mcode\u001b[49m\u001b[43m(\u001b[49m\u001b[43m*\u001b[49m\u001b[43margs\u001b[49m\u001b[43m)\u001b[49m)\n\u001b[32m   1465\u001b[39m \u001b[38;5;28;01mexcept\u001b[39;00m \u001b[38;5;167;01mNotImplementedError\u001b[39;00m:\n\u001b[32m   1466\u001b[39m     \u001b[38;5;28;01mraise\u001b[39;00m\n",
      "\u001b[36mFile \u001b[39m\u001b[32m<EvalJS snippet>:114\u001b[39m, in \u001b[36mPyJs_anonymous_2_\u001b[39m\u001b[34m(n, this, arguments, var)\u001b[39m\n",
      "\u001b[36mFile \u001b[39m\u001b[32md:\\MonashAI\\Y2S2\\FIT5120\\Onboarding\\BlueBreathe\\venv\\Lib\\site-packages\\js2py\\base.py:781\u001b[39m, in \u001b[36mPyJs.__add__\u001b[39m\u001b[34m(self, other)\u001b[39m\n\u001b[32m    779\u001b[39m a = a.to_number()\n\u001b[32m    780\u001b[39m b = b.to_number()\n\u001b[32m--> \u001b[39m\u001b[32m781\u001b[39m \u001b[38;5;28;01mreturn\u001b[39;00m \u001b[43mJs\u001b[49m\u001b[43m(\u001b[49m\u001b[43ma\u001b[49m\u001b[43m.\u001b[49m\u001b[43mvalue\u001b[49m\u001b[43m \u001b[49m\u001b[43m+\u001b[49m\u001b[43m \u001b[49m\u001b[43mb\u001b[49m\u001b[43m.\u001b[49m\u001b[43mvalue\u001b[49m\u001b[43m)\u001b[49m\n",
      "\u001b[36mFile \u001b[39m\u001b[32md:\\MonashAI\\Y2S2\\FIT5120\\Onboarding\\BlueBreathe\\venv\\Lib\\site-packages\\js2py\\base.py:163\u001b[39m, in \u001b[36mJs\u001b[39m\u001b[34m(val, Clamped)\u001b[39m\n\u001b[32m    161\u001b[39m     \u001b[38;5;28;01mif\u001b[39;00m val \u001b[38;5;129;01min\u001b[39;00m NUM_BANK:\n\u001b[32m    162\u001b[39m         \u001b[38;5;28;01mreturn\u001b[39;00m NUM_BANK[val]\n\u001b[32m--> \u001b[39m\u001b[32m163\u001b[39m     \u001b[38;5;28;01mreturn\u001b[39;00m \u001b[43mPyJsNumber\u001b[49m\u001b[43m(\u001b[49m\u001b[38;5;28;43mfloat\u001b[39;49m\u001b[43m(\u001b[49m\u001b[43mval\u001b[49m\u001b[43m)\u001b[49m\u001b[43m,\u001b[49m\u001b[43m \u001b[49m\u001b[43mNumberPrototype\u001b[49m\u001b[43m)\u001b[49m\n\u001b[32m    164\u001b[39m \u001b[38;5;28;01melif\u001b[39;00m \u001b[38;5;28misinstance\u001b[39m(val, FunctionType):\n\u001b[32m    165\u001b[39m     \u001b[38;5;28;01mreturn\u001b[39;00m PyJsFunction(val, FunctionPrototype)\n",
      "\u001b[36mFile \u001b[39m\u001b[32md:\\MonashAI\\Y2S2\\FIT5120\\Onboarding\\BlueBreathe\\venv\\Lib\\site-packages\\js2py\\base.py:268\u001b[39m, in \u001b[36mPyJs.__init__\u001b[39m\u001b[34m(self, value, prototype, extensible)\u001b[39m\n\u001b[32m    265\u001b[39m value = \u001b[38;5;28;01mNone\u001b[39;00m\n\u001b[32m    266\u001b[39m buff = \u001b[38;5;28;01mNone\u001b[39;00m\n\u001b[32m--> \u001b[39m\u001b[32m268\u001b[39m \u001b[38;5;28;01mdef\u001b[39;00m\u001b[38;5;250m \u001b[39m\u001b[34m__init__\u001b[39m(\u001b[38;5;28mself\u001b[39m, value=\u001b[38;5;28;01mNone\u001b[39;00m, prototype=\u001b[38;5;28;01mNone\u001b[39;00m, extensible=\u001b[38;5;28;01mFalse\u001b[39;00m):\n\u001b[32m    269\u001b[39m \u001b[38;5;250m    \u001b[39m\u001b[33;03m'''Constructor for Number String and Boolean'''\u001b[39;00m\n\u001b[32m    270\u001b[39m     \u001b[38;5;66;03m# I dont think this is needed anymore\u001b[39;00m\n\u001b[32m    271\u001b[39m     \u001b[38;5;66;03m# if self.Class=='String' and not isinstance(value, basestring):\u001b[39;00m\n\u001b[32m    272\u001b[39m     \u001b[38;5;66;03m#     raise TypeError\u001b[39;00m\n\u001b[32m   (...)\u001b[39m\u001b[32m    278\u001b[39m     \u001b[38;5;66;03m# if self.Class=='Boolean' and not isinstance(value, bool):\u001b[39;00m\n\u001b[32m    279\u001b[39m     \u001b[38;5;66;03m#     raise TypeError\u001b[39;00m\n",
      "\u001b[31mKeyboardInterrupt\u001b[39m: "
     ]
    }
   ],
   "source": [
    "import ozon3 as ooo\n",
    "import pandas as pd\n",
    "# api=\"https://api.waqi.info/feed/here/?token=902652703a4a6401a924447f3dedbf1574177445\"\n",
    "o3 = ooo.Ozon3('b2c99547a16b7e7a65212fa2fd430d6ddcf8be40')\n",
    "# data1 = o3.get_city_air('New Delhi')\n",
    "# print(data1)\n",
    "# data2 = o3.get_multiple_city_air(['London', 'Hong Kong', 'New York'])     # As many locations as you need\n",
    "# print(data2)\n",
    "# data3 = o3.get_historical_data(city='Banting, Selangor, Malaysia')     # data from 2014 onwards!\n",
    "# print(data3)\n",
    "\n",
    "\n",
    "#get historical data of malaysian cities\n",
    "city=o3.get_city_station_options('Malaysia')\n",
    "output_file = \"city.xlsx\"\n",
    "city.to_excel(output_file, index=False)\n",
    "print(f\"已保存为 {output_file}\")\n",
    "df=pd.read_excel(output_file)\n",
    "for station_name in df['station_name']:\n",
    "    data3 = o3.get_historical_data(city=station_name[1])     # data from 2014 onwards!\n",
    "    output_file = f\"{station_name}.xlsx\"\n",
    "    data3.to_excel(output_file, index=False)\n",
    "    print(f\"历史数据已保存为 {output_file}\")\n",
    "\n",
    "# data1 = o3.get_city_air('Banting, Selangor, Malaysia')\n",
    "# print(data1)\n",
    "# data1.to_excel('banting.xlsx',index=False)"
   ]
  }
 ],
 "metadata": {
  "kernelspec": {
   "display_name": "venv",
   "language": "python",
   "name": "python3"
  },
  "language_info": {
   "codemirror_mode": {
    "name": "ipython",
    "version": 3
   },
   "file_extension": ".py",
   "mimetype": "text/x-python",
   "name": "python",
   "nbconvert_exporter": "python",
   "pygments_lexer": "ipython3",
   "version": "3.11.7"
  }
 },
 "nbformat": 4,
 "nbformat_minor": 2
}
